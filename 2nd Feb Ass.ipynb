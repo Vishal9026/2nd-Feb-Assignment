{
 "cells": [
  {
   "cell_type": "code",
   "execution_count": 5,
   "id": "e165db74-e48a-4d72-a3f3-c91479d45846",
   "metadata": {},
   "outputs": [
    {
     "name": "stdout",
     "output_type": "stream",
     "text": [
      "vishal\n",
      "arjun\n",
      "pankaj\n"
     ]
    }
   ],
   "source": [
    "# ANSWER-1)\n",
    "'''A ‘for’ loop in Python is used when you have a sequence of elements and you want to\n",
    "execute a block of code for each element in the sequence.'''\n",
    "name= ['vishal','arjun','pankaj']\n",
    "for i in name :\n",
    "    print(i)"
   ]
  },
  {
   "cell_type": "code",
   "execution_count": 6,
   "id": "ec331a8d-438b-4533-a256-c5e65967af1a",
   "metadata": {},
   "outputs": [
    {
     "name": "stdout",
     "output_type": "stream",
     "text": [
      "0\n",
      "1\n",
      "2\n",
      "3\n",
      "4\n"
     ]
    }
   ],
   "source": [
    "# ANSWER-1)\n",
    "''' A while loop in Python is used when you want to keep executing a block of code as long\n",
    "as a certain condition is true.'''\n",
    "counter = 0 \n",
    "while counter < 5 :\n",
    "    print(counter)\n",
    "    counter =counter + 1"
   ]
  },
  {
   "cell_type": "code",
   "execution_count": 1,
   "id": "193c4ddb-26a2-4fa9-8d69-e14c29ad016b",
   "metadata": {},
   "outputs": [
    {
     "name": "stdout",
     "output_type": "stream",
     "text": [
      "55\n",
      "3628800\n"
     ]
    }
   ],
   "source": [
    "# ANSWER-2)\n",
    "add = 0\n",
    "product = 1\n",
    "for i in range(1,11):\n",
    "    add = add + i\n",
    "    product = product * i  \n",
    "print(add)\n",
    "print(product)\n"
   ]
  },
  {
   "cell_type": "code",
   "execution_count": 3,
   "id": "5a81f302-89c7-4729-9bc7-eda7744da934",
   "metadata": {},
   "outputs": [
    {
     "name": "stdout",
     "output_type": "stream",
     "text": [
      "55\n",
      "3628800\n"
     ]
    }
   ],
   "source": [
    "# ANSWER-2)\n",
    "starting_point = 0\n",
    "counter = 1\n",
    "product = 1\n",
    "while counter <= 10 :\n",
    "    starting_point = starting_point + counter\n",
    "    product =product * counter\n",
    "    counter = counter +1\n",
    "print(starting_point)\n",
    "print(product)"
   ]
  },
  {
   "cell_type": "code",
   "execution_count": 8,
   "id": "f73c60b7-e9fd-4f87-be74-9e7880a54515",
   "metadata": {},
   "outputs": [
    {
     "name": "stdin",
     "output_type": "stream",
     "text": [
      "enter your meter unit : 310\n"
     ]
    },
    {
     "name": "stdout",
     "output_type": "stream",
     "text": [
      "your total electricity bill is: Rs. 1710.0\n"
     ]
    }
   ],
   "source": [
    "# ANSWER-3)\n",
    "unit = int(input('enter your meter unit :'))\n",
    "if unit<=100:\n",
    "    # charged = unit * 4.5\n",
    "    print('your total electricity bill is: Rs.',(unit * 4.5)) \n",
    "elif unit>100 or unit<= 200:\n",
    "    print('your total electricity bill is: Rs.',((unit-100)*6) +(100*4.5))\n",
    "elif unit>200 or unit<=300:\n",
    "    print('your total electricity bill is: Rs.',((unit-200)*10)+(100*6)+(100*4.5))\n",
    "else :\n",
    "    print('your total electricity bill is: Rs.',((unit-300)*20)+(100*10)+(100*6)+(100*4.5))\n",
    "    "
   ]
  },
  {
   "cell_type": "code",
   "execution_count": 7,
   "id": "ee48bfa8-1388-4f6a-bbed-0b2bcd6020db",
   "metadata": {},
   "outputs": [
    {
     "data": {
      "text/plain": [
       "[8,\n",
       " 64,\n",
       " 125,\n",
       " 216,\n",
       " 512,\n",
       " 1000,\n",
       " 1728,\n",
       " 2744,\n",
       " 3375,\n",
       " 4096,\n",
       " 5832,\n",
       " 8000,\n",
       " 10648,\n",
       " 13824,\n",
       " 15625,\n",
       " 17576,\n",
       " 21952,\n",
       " 27000,\n",
       " 32768,\n",
       " 39304,\n",
       " 42875,\n",
       " 46656,\n",
       " 54872,\n",
       " 64000,\n",
       " 74088,\n",
       " 85184,\n",
       " 91125,\n",
       " 97336,\n",
       " 110592,\n",
       " 125000,\n",
       " 140608,\n",
       " 157464,\n",
       " 166375,\n",
       " 175616,\n",
       " 195112,\n",
       " 216000,\n",
       " 238328,\n",
       " 262144,\n",
       " 274625,\n",
       " 287496,\n",
       " 314432,\n",
       " 343000,\n",
       " 373248,\n",
       " 405224,\n",
       " 421875,\n",
       " 438976,\n",
       " 474552,\n",
       " 512000,\n",
       " 551368,\n",
       " 592704,\n",
       " 614125,\n",
       " 636056,\n",
       " 681472,\n",
       " 729000,\n",
       " 778688,\n",
       " 830584,\n",
       " 857375,\n",
       " 884736,\n",
       " 941192]"
      ]
     },
     "execution_count": 7,
     "metadata": {},
     "output_type": "execute_result"
    }
   ],
   "source": [
    "# ANSWER-4)\n",
    "l = list(range(1,100))\n",
    "l1 = []\n",
    "for i in l :\n",
    "    i = i*i*i\n",
    "    if i % 4 == 0 or i % 5== 0 :\n",
    "        \n",
    "        l1.append(i)\n",
    "l1        \n",
    "    "
   ]
  },
  {
   "cell_type": "code",
   "execution_count": 4,
   "id": "804a192b-45e7-4bd8-870f-eab3c8ed0dec",
   "metadata": {},
   "outputs": [
    {
     "name": "stdout",
     "output_type": "stream",
     "text": [
      "12\n"
     ]
    }
   ],
   "source": [
    "# ANSWER-5)\n",
    "string = 'i want to become a data science'\n",
    "vowels = ['a','e','i','o','u']\n",
    "count_vowels = 0\n",
    "for x in string :\n",
    "    if x in vowels :\n",
    "        count_vowels = count_vowels + 1\n",
    "print(count_vowels) "
   ]
  },
  {
   "cell_type": "code",
   "execution_count": null,
   "id": "b50972c6-d522-41ee-b500-22e390f8544f",
   "metadata": {},
   "outputs": [],
   "source": []
  }
 ],
 "metadata": {
  "kernelspec": {
   "display_name": "Python 3 (ipykernel)",
   "language": "python",
   "name": "python3"
  },
  "language_info": {
   "codemirror_mode": {
    "name": "ipython",
    "version": 3
   },
   "file_extension": ".py",
   "mimetype": "text/x-python",
   "name": "python",
   "nbconvert_exporter": "python",
   "pygments_lexer": "ipython3",
   "version": "3.10.8"
  }
 },
 "nbformat": 4,
 "nbformat_minor": 5
}
